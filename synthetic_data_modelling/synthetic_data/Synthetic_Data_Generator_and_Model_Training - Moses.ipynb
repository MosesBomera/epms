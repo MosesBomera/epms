{
 "cells": [
  {
   "cell_type": "markdown",
   "metadata": {
    "colab_type": "text",
    "id": "0XiILts4XZbQ"
   },
   "source": [
    "## Library Imports"
   ]
  },
  {
   "cell_type": "code",
   "execution_count": 1,
   "metadata": {
    "colab": {},
    "colab_type": "code",
    "id": "VQZqTnDfXOGa"
   },
   "outputs": [],
   "source": [
    "import pandas as pd\n",
    "import numpy as np"
   ]
  },
  {
   "cell_type": "markdown",
   "metadata": {
    "colab_type": "text",
    "id": "aLvFLiTYXhwn"
   },
   "source": [
    "## Class Definition\n",
    "This class creates synthetic data using the statistics extracted from the Makerere University Corona Virus survey titled **Characteristics and outcomes of initial patients diagnosed and treated with COVID-19 in Uganda.**\n",
    "\n",
    "The features were based on the symptoms from this report and so were the distributions. The `age`, `weight`, and `height` features are uniformly distributed (which might be not be representative of the actual age distribution).\n",
    "\n",
    "Notes on range and units:\n",
    "- Age (16 - 90), years\n",
    "- Height (110 - 300), cm\n",
    "- Weight (35 - 200), kg"
   ]
  },
  {
   "cell_type": "code",
   "execution_count": 2,
   "metadata": {
    "colab": {},
    "colab_type": "code",
    "id": "7oZ5VoezXeVV"
   },
   "outputs": [],
   "source": [
    "class DataGenerator:\n",
    "    def __init__(self, seed, rows):\n",
    "        self.seed = seed\n",
    "        self.rows = rows\n",
    "\n",
    "    def generator(self):\n",
    "        np.random.seed(self.seed)\n",
    "        data = [\n",
    "            {\n",
    "                'age': np.random.choice(np.arange(16, 90)),\n",
    "                'weight': np.random.choice(np.arange(35, 200)),\n",
    "                'height': np.random.choice(np.arange(110, 300)),\n",
    "                'temperature': np.random.choice(np.arange(34.0, 40.0, 0.1)),\n",
    "                'sp02': np.random.choice(np.arange(88, 100)),\n",
    "                'gender': np.random.choice(['M', 'F'], p=['0.632', '0.368']),\n",
    "                'fever': np.random.choice(['YES', 'NO'], p=[0.214, 0.786]),\n",
    "                'cough': np.random.choice(['YES', 'NO'], p=[0.196, 0.804]),\n",
    "                'runny_nose': np.random.choice(['YES', 'NO'], p=[0.161, 0.839]),\n",
    "                'headache': np.random.choice(['YES', 'NO'], p=[0.125, 0.875]),\n",
    "                'muscle_aches': np.random.choice(['YES', 'NO'], p=[0.071, 0.929]),\n",
    "                'fatigue': np.random.choice(['YES', 'NO'], p=[0.071, 0.929]),\n",
    "                'target': np.random.choice([1, 0], p=[1.0, 0.0]),\n",
    "            }\n",
    "            for _ in range(self.rows)\n",
    "        ]\n",
    "        return data"
   ]
  },
  {
   "cell_type": "code",
   "execution_count": 3,
   "metadata": {
    "colab": {},
    "colab_type": "code",
    "id": "T1FU_cTpiM8D"
   },
   "outputs": [],
   "source": [
    "class HealthyGenerator(DataGenerator):\n",
    "    def __init__(self, rows, seed):\n",
    "        super().__init__(rows, seed)\n",
    "\n",
    "    def generator(self):\n",
    "        np.random.seed(self.seed)\n",
    "        data = [\n",
    "            {\n",
    "                'age': np.random.choice(np.arange(16, 90)),\n",
    "                'weight': np.random.choice(np.arange(35, 200)),\n",
    "                'height': np.random.choice(np.arange(110, 300)),\n",
    "                'temperature': np.random.choice(np.arange(34.0, 40.0, 0.1)),\n",
    "                'sp02': np.random.choice(np.arange(88, 100)),\n",
    "                'gender': np.random.choice(['M', 'F'], p=['0.632', '0.368']),\n",
    "                'fever': np.random.choice(['YES', 'NO'], p=[0.12, 0.88]),\n",
    "                'cough': np.random.choice(['YES', 'NO'], p=[0.02, 0.98]),\n",
    "                'runny_nose': np.random.choice(['YES', 'NO'], p=[0.051, 0.949]),\n",
    "                'headache': np.random.choice(['YES', 'NO'], p=[0.073, 0.927]),\n",
    "                'muscle_aches': np.random.choice(['YES', 'NO'], p=[0.071, 0.929]),\n",
    "                'fatigue': np.random.choice(['YES', 'NO'], p=[0.271, 0.729]),\n",
    "                'target': np.random.choice([1, 0], p=[0.0, 1.0]),\n",
    "            }\n",
    "            for _ in range(self.rows)\n",
    "        ]\n",
    "        return data\n"
   ]
  },
  {
   "cell_type": "markdown",
   "metadata": {
    "colab_type": "text",
    "id": "jRFbK2Cgdt6W"
   },
   "source": [
    "### Create the data\n",
    "Proportions\n",
    "- 30000 negative cases.\n",
    "- 20000 positive cases."
   ]
  },
  {
   "cell_type": "code",
   "execution_count": 4,
   "metadata": {
    "colab": {},
    "colab_type": "code",
    "id": "7JE9kTIDdvWj"
   },
   "outputs": [],
   "source": [
    "dg = DataGenerator(42, 20000)\n",
    "positive = pd.DataFrame(dg.generator())"
   ]
  },
  {
   "cell_type": "code",
   "execution_count": 5,
   "metadata": {
    "colab": {
     "base_uri": "https://localhost:8080/",
     "height": 356
    },
    "colab_type": "code",
    "id": "ZcMFhPFtd6uL",
    "outputId": "c61d5bb2-f205-4bef-a6c8-c5deb73a6b23"
   },
   "outputs": [
    {
     "data": {
      "text/html": [
       "<div>\n",
       "<style scoped>\n",
       "    .dataframe tbody tr th:only-of-type {\n",
       "        vertical-align: middle;\n",
       "    }\n",
       "\n",
       "    .dataframe tbody tr th {\n",
       "        vertical-align: top;\n",
       "    }\n",
       "\n",
       "    .dataframe thead th {\n",
       "        text-align: right;\n",
       "    }\n",
       "</style>\n",
       "<table border=\"1\" class=\"dataframe\">\n",
       "  <thead>\n",
       "    <tr style=\"text-align: right;\">\n",
       "      <th></th>\n",
       "      <th>age</th>\n",
       "      <th>weight</th>\n",
       "      <th>height</th>\n",
       "      <th>temperature</th>\n",
       "      <th>sp02</th>\n",
       "      <th>gender</th>\n",
       "      <th>fever</th>\n",
       "      <th>cough</th>\n",
       "      <th>runny_nose</th>\n",
       "      <th>headache</th>\n",
       "      <th>muscle_aches</th>\n",
       "      <th>fatigue</th>\n",
       "      <th>target</th>\n",
       "    </tr>\n",
       "  </thead>\n",
       "  <tbody>\n",
       "    <tr>\n",
       "      <th>0</th>\n",
       "      <td>67</td>\n",
       "      <td>127</td>\n",
       "      <td>124</td>\n",
       "      <td>38.2</td>\n",
       "      <td>95</td>\n",
       "      <td>M</td>\n",
       "      <td>YES</td>\n",
       "      <td>YES</td>\n",
       "      <td>YES</td>\n",
       "      <td>NO</td>\n",
       "      <td>NO</td>\n",
       "      <td>NO</td>\n",
       "      <td>1</td>\n",
       "    </tr>\n",
       "    <tr>\n",
       "      <th>1</th>\n",
       "      <td>17</td>\n",
       "      <td>122</td>\n",
       "      <td>267</td>\n",
       "      <td>37.7</td>\n",
       "      <td>89</td>\n",
       "      <td>M</td>\n",
       "      <td>YES</td>\n",
       "      <td>NO</td>\n",
       "      <td>NO</td>\n",
       "      <td>NO</td>\n",
       "      <td>NO</td>\n",
       "      <td>NO</td>\n",
       "      <td>1</td>\n",
       "    </tr>\n",
       "    <tr>\n",
       "      <th>2</th>\n",
       "      <td>75</td>\n",
       "      <td>49</td>\n",
       "      <td>299</td>\n",
       "      <td>38.6</td>\n",
       "      <td>90</td>\n",
       "      <td>M</td>\n",
       "      <td>NO</td>\n",
       "      <td>NO</td>\n",
       "      <td>NO</td>\n",
       "      <td>NO</td>\n",
       "      <td>NO</td>\n",
       "      <td>YES</td>\n",
       "      <td>1</td>\n",
       "    </tr>\n",
       "    <tr>\n",
       "      <th>3</th>\n",
       "      <td>29</td>\n",
       "      <td>43</td>\n",
       "      <td>199</td>\n",
       "      <td>39.2</td>\n",
       "      <td>89</td>\n",
       "      <td>F</td>\n",
       "      <td>NO</td>\n",
       "      <td>YES</td>\n",
       "      <td>NO</td>\n",
       "      <td>YES</td>\n",
       "      <td>NO</td>\n",
       "      <td>NO</td>\n",
       "      <td>1</td>\n",
       "    </tr>\n",
       "    <tr>\n",
       "      <th>4</th>\n",
       "      <td>17</td>\n",
       "      <td>168</td>\n",
       "      <td>163</td>\n",
       "      <td>38.1</td>\n",
       "      <td>91</td>\n",
       "      <td>M</td>\n",
       "      <td>NO</td>\n",
       "      <td>NO</td>\n",
       "      <td>NO</td>\n",
       "      <td>NO</td>\n",
       "      <td>NO</td>\n",
       "      <td>NO</td>\n",
       "      <td>1</td>\n",
       "    </tr>\n",
       "    <tr>\n",
       "      <th>5</th>\n",
       "      <td>77</td>\n",
       "      <td>74</td>\n",
       "      <td>191</td>\n",
       "      <td>38.6</td>\n",
       "      <td>92</td>\n",
       "      <td>M</td>\n",
       "      <td>NO</td>\n",
       "      <td>NO</td>\n",
       "      <td>NO</td>\n",
       "      <td>NO</td>\n",
       "      <td>NO</td>\n",
       "      <td>YES</td>\n",
       "      <td>1</td>\n",
       "    </tr>\n",
       "    <tr>\n",
       "      <th>6</th>\n",
       "      <td>16</td>\n",
       "      <td>170</td>\n",
       "      <td>172</td>\n",
       "      <td>35.0</td>\n",
       "      <td>90</td>\n",
       "      <td>F</td>\n",
       "      <td>NO</td>\n",
       "      <td>NO</td>\n",
       "      <td>YES</td>\n",
       "      <td>NO</td>\n",
       "      <td>NO</td>\n",
       "      <td>NO</td>\n",
       "      <td>1</td>\n",
       "    </tr>\n",
       "    <tr>\n",
       "      <th>7</th>\n",
       "      <td>49</td>\n",
       "      <td>67</td>\n",
       "      <td>157</td>\n",
       "      <td>39.4</td>\n",
       "      <td>94</td>\n",
       "      <td>F</td>\n",
       "      <td>NO</td>\n",
       "      <td>NO</td>\n",
       "      <td>NO</td>\n",
       "      <td>NO</td>\n",
       "      <td>NO</td>\n",
       "      <td>NO</td>\n",
       "      <td>1</td>\n",
       "    </tr>\n",
       "    <tr>\n",
       "      <th>8</th>\n",
       "      <td>20</td>\n",
       "      <td>176</td>\n",
       "      <td>212</td>\n",
       "      <td>36.6</td>\n",
       "      <td>96</td>\n",
       "      <td>F</td>\n",
       "      <td>YES</td>\n",
       "      <td>NO</td>\n",
       "      <td>NO</td>\n",
       "      <td>NO</td>\n",
       "      <td>NO</td>\n",
       "      <td>NO</td>\n",
       "      <td>1</td>\n",
       "    </tr>\n",
       "    <tr>\n",
       "      <th>9</th>\n",
       "      <td>38</td>\n",
       "      <td>177</td>\n",
       "      <td>280</td>\n",
       "      <td>36.8</td>\n",
       "      <td>91</td>\n",
       "      <td>F</td>\n",
       "      <td>NO</td>\n",
       "      <td>NO</td>\n",
       "      <td>NO</td>\n",
       "      <td>NO</td>\n",
       "      <td>NO</td>\n",
       "      <td>NO</td>\n",
       "      <td>1</td>\n",
       "    </tr>\n",
       "  </tbody>\n",
       "</table>\n",
       "</div>"
      ],
      "text/plain": [
       "   age  weight  height  temperature  sp02 gender fever cough runny_nose  \\\n",
       "0   67     127     124         38.2    95      M   YES   YES        YES   \n",
       "1   17     122     267         37.7    89      M   YES    NO         NO   \n",
       "2   75      49     299         38.6    90      M    NO    NO         NO   \n",
       "3   29      43     199         39.2    89      F    NO   YES         NO   \n",
       "4   17     168     163         38.1    91      M    NO    NO         NO   \n",
       "5   77      74     191         38.6    92      M    NO    NO         NO   \n",
       "6   16     170     172         35.0    90      F    NO    NO        YES   \n",
       "7   49      67     157         39.4    94      F    NO    NO         NO   \n",
       "8   20     176     212         36.6    96      F   YES    NO         NO   \n",
       "9   38     177     280         36.8    91      F    NO    NO         NO   \n",
       "\n",
       "  headache muscle_aches fatigue  target  \n",
       "0       NO           NO      NO       1  \n",
       "1       NO           NO      NO       1  \n",
       "2       NO           NO     YES       1  \n",
       "3      YES           NO      NO       1  \n",
       "4       NO           NO      NO       1  \n",
       "5       NO           NO     YES       1  \n",
       "6       NO           NO      NO       1  \n",
       "7       NO           NO      NO       1  \n",
       "8       NO           NO      NO       1  \n",
       "9       NO           NO      NO       1  "
      ]
     },
     "execution_count": 5,
     "metadata": {},
     "output_type": "execute_result"
    }
   ],
   "source": [
    "positive.head(10)"
   ]
  },
  {
   "cell_type": "code",
   "execution_count": 6,
   "metadata": {
    "colab": {},
    "colab_type": "code",
    "id": "my5FMhPAfUbW"
   },
   "outputs": [],
   "source": [
    "hd = HealthyGenerator(42, 30000)\n",
    "negative = pd.DataFrame(hd.generator())"
   ]
  },
  {
   "cell_type": "code",
   "execution_count": 7,
   "metadata": {
    "colab": {
     "base_uri": "https://localhost:8080/",
     "height": 34
    },
    "colab_type": "code",
    "id": "WUy3w3zrnkjC",
    "outputId": "7c4742e0-854d-4fd8-b24a-87edba68934d"
   },
   "outputs": [
    {
     "data": {
      "text/plain": [
       "(30000, 13)"
      ]
     },
     "execution_count": 7,
     "metadata": {},
     "output_type": "execute_result"
    }
   ],
   "source": [
    "negative.shape"
   ]
  },
  {
   "cell_type": "code",
   "execution_count": 8,
   "metadata": {
    "colab": {
     "base_uri": "https://localhost:8080/",
     "height": 356
    },
    "colab_type": "code",
    "id": "Tk3SX7ZBmQKq",
    "outputId": "80bac960-e107-4b12-e659-0fd977c8ed10"
   },
   "outputs": [
    {
     "data": {
      "text/html": [
       "<div>\n",
       "<style scoped>\n",
       "    .dataframe tbody tr th:only-of-type {\n",
       "        vertical-align: middle;\n",
       "    }\n",
       "\n",
       "    .dataframe tbody tr th {\n",
       "        vertical-align: top;\n",
       "    }\n",
       "\n",
       "    .dataframe thead th {\n",
       "        text-align: right;\n",
       "    }\n",
       "</style>\n",
       "<table border=\"1\" class=\"dataframe\">\n",
       "  <thead>\n",
       "    <tr style=\"text-align: right;\">\n",
       "      <th></th>\n",
       "      <th>age</th>\n",
       "      <th>weight</th>\n",
       "      <th>height</th>\n",
       "      <th>temperature</th>\n",
       "      <th>sp02</th>\n",
       "      <th>gender</th>\n",
       "      <th>fever</th>\n",
       "      <th>cough</th>\n",
       "      <th>runny_nose</th>\n",
       "      <th>headache</th>\n",
       "      <th>muscle_aches</th>\n",
       "      <th>fatigue</th>\n",
       "      <th>target</th>\n",
       "    </tr>\n",
       "  </thead>\n",
       "  <tbody>\n",
       "    <tr>\n",
       "      <th>0</th>\n",
       "      <td>67</td>\n",
       "      <td>127</td>\n",
       "      <td>124</td>\n",
       "      <td>38.2</td>\n",
       "      <td>95</td>\n",
       "      <td>M</td>\n",
       "      <td>NO</td>\n",
       "      <td>NO</td>\n",
       "      <td>NO</td>\n",
       "      <td>NO</td>\n",
       "      <td>NO</td>\n",
       "      <td>NO</td>\n",
       "      <td>0</td>\n",
       "    </tr>\n",
       "    <tr>\n",
       "      <th>1</th>\n",
       "      <td>17</td>\n",
       "      <td>122</td>\n",
       "      <td>267</td>\n",
       "      <td>37.7</td>\n",
       "      <td>89</td>\n",
       "      <td>M</td>\n",
       "      <td>NO</td>\n",
       "      <td>NO</td>\n",
       "      <td>NO</td>\n",
       "      <td>NO</td>\n",
       "      <td>NO</td>\n",
       "      <td>NO</td>\n",
       "      <td>0</td>\n",
       "    </tr>\n",
       "    <tr>\n",
       "      <th>2</th>\n",
       "      <td>75</td>\n",
       "      <td>49</td>\n",
       "      <td>299</td>\n",
       "      <td>38.6</td>\n",
       "      <td>90</td>\n",
       "      <td>M</td>\n",
       "      <td>NO</td>\n",
       "      <td>NO</td>\n",
       "      <td>NO</td>\n",
       "      <td>NO</td>\n",
       "      <td>NO</td>\n",
       "      <td>YES</td>\n",
       "      <td>0</td>\n",
       "    </tr>\n",
       "    <tr>\n",
       "      <th>3</th>\n",
       "      <td>29</td>\n",
       "      <td>43</td>\n",
       "      <td>199</td>\n",
       "      <td>39.2</td>\n",
       "      <td>89</td>\n",
       "      <td>F</td>\n",
       "      <td>NO</td>\n",
       "      <td>NO</td>\n",
       "      <td>NO</td>\n",
       "      <td>YES</td>\n",
       "      <td>NO</td>\n",
       "      <td>YES</td>\n",
       "      <td>0</td>\n",
       "    </tr>\n",
       "    <tr>\n",
       "      <th>4</th>\n",
       "      <td>17</td>\n",
       "      <td>168</td>\n",
       "      <td>163</td>\n",
       "      <td>38.1</td>\n",
       "      <td>91</td>\n",
       "      <td>M</td>\n",
       "      <td>NO</td>\n",
       "      <td>NO</td>\n",
       "      <td>NO</td>\n",
       "      <td>NO</td>\n",
       "      <td>NO</td>\n",
       "      <td>NO</td>\n",
       "      <td>0</td>\n",
       "    </tr>\n",
       "    <tr>\n",
       "      <th>5</th>\n",
       "      <td>77</td>\n",
       "      <td>74</td>\n",
       "      <td>191</td>\n",
       "      <td>38.6</td>\n",
       "      <td>92</td>\n",
       "      <td>M</td>\n",
       "      <td>NO</td>\n",
       "      <td>NO</td>\n",
       "      <td>NO</td>\n",
       "      <td>NO</td>\n",
       "      <td>NO</td>\n",
       "      <td>YES</td>\n",
       "      <td>0</td>\n",
       "    </tr>\n",
       "    <tr>\n",
       "      <th>6</th>\n",
       "      <td>16</td>\n",
       "      <td>170</td>\n",
       "      <td>172</td>\n",
       "      <td>35.0</td>\n",
       "      <td>90</td>\n",
       "      <td>F</td>\n",
       "      <td>NO</td>\n",
       "      <td>NO</td>\n",
       "      <td>NO</td>\n",
       "      <td>NO</td>\n",
       "      <td>NO</td>\n",
       "      <td>NO</td>\n",
       "      <td>0</td>\n",
       "    </tr>\n",
       "    <tr>\n",
       "      <th>7</th>\n",
       "      <td>49</td>\n",
       "      <td>67</td>\n",
       "      <td>157</td>\n",
       "      <td>39.4</td>\n",
       "      <td>94</td>\n",
       "      <td>F</td>\n",
       "      <td>NO</td>\n",
       "      <td>NO</td>\n",
       "      <td>NO</td>\n",
       "      <td>NO</td>\n",
       "      <td>NO</td>\n",
       "      <td>NO</td>\n",
       "      <td>0</td>\n",
       "    </tr>\n",
       "    <tr>\n",
       "      <th>8</th>\n",
       "      <td>20</td>\n",
       "      <td>176</td>\n",
       "      <td>212</td>\n",
       "      <td>36.6</td>\n",
       "      <td>96</td>\n",
       "      <td>F</td>\n",
       "      <td>YES</td>\n",
       "      <td>NO</td>\n",
       "      <td>NO</td>\n",
       "      <td>NO</td>\n",
       "      <td>NO</td>\n",
       "      <td>NO</td>\n",
       "      <td>0</td>\n",
       "    </tr>\n",
       "    <tr>\n",
       "      <th>9</th>\n",
       "      <td>38</td>\n",
       "      <td>177</td>\n",
       "      <td>280</td>\n",
       "      <td>36.8</td>\n",
       "      <td>91</td>\n",
       "      <td>F</td>\n",
       "      <td>NO</td>\n",
       "      <td>NO</td>\n",
       "      <td>NO</td>\n",
       "      <td>NO</td>\n",
       "      <td>NO</td>\n",
       "      <td>YES</td>\n",
       "      <td>0</td>\n",
       "    </tr>\n",
       "  </tbody>\n",
       "</table>\n",
       "</div>"
      ],
      "text/plain": [
       "   age  weight  height  temperature  sp02 gender fever cough runny_nose  \\\n",
       "0   67     127     124         38.2    95      M    NO    NO         NO   \n",
       "1   17     122     267         37.7    89      M    NO    NO         NO   \n",
       "2   75      49     299         38.6    90      M    NO    NO         NO   \n",
       "3   29      43     199         39.2    89      F    NO    NO         NO   \n",
       "4   17     168     163         38.1    91      M    NO    NO         NO   \n",
       "5   77      74     191         38.6    92      M    NO    NO         NO   \n",
       "6   16     170     172         35.0    90      F    NO    NO         NO   \n",
       "7   49      67     157         39.4    94      F    NO    NO         NO   \n",
       "8   20     176     212         36.6    96      F   YES    NO         NO   \n",
       "9   38     177     280         36.8    91      F    NO    NO         NO   \n",
       "\n",
       "  headache muscle_aches fatigue  target  \n",
       "0       NO           NO      NO       0  \n",
       "1       NO           NO      NO       0  \n",
       "2       NO           NO     YES       0  \n",
       "3      YES           NO     YES       0  \n",
       "4       NO           NO      NO       0  \n",
       "5       NO           NO     YES       0  \n",
       "6       NO           NO      NO       0  \n",
       "7       NO           NO      NO       0  \n",
       "8       NO           NO      NO       0  \n",
       "9       NO           NO     YES       0  "
      ]
     },
     "execution_count": 8,
     "metadata": {},
     "output_type": "execute_result"
    }
   ],
   "source": [
    "negative.head(10)"
   ]
  },
  {
   "cell_type": "markdown",
   "metadata": {
    "colab_type": "text",
    "id": "SBJ9l_Zqmpcr"
   },
   "source": [
    "<a name=\"dataset\"></a>\n",
    "## Full Dataset\n",
    "Combine the two datasets to get a general one."
   ]
  },
  {
   "cell_type": "code",
   "execution_count": 9,
   "metadata": {
    "colab": {},
    "colab_type": "code",
    "id": "MG9qLpFImj0N"
   },
   "outputs": [],
   "source": [
    "dataset = positive.append(negative, ignore_index=False)"
   ]
  },
  {
   "cell_type": "code",
   "execution_count": 10,
   "metadata": {
    "colab": {
     "base_uri": "https://localhost:8080/",
     "height": 34
    },
    "colab_type": "code",
    "id": "qk2Us5OVnV37",
    "outputId": "1a87e70e-61db-4309-b242-26e76acefd5a"
   },
   "outputs": [
    {
     "data": {
      "text/plain": [
       "(50000, 13)"
      ]
     },
     "execution_count": 10,
     "metadata": {},
     "output_type": "execute_result"
    }
   ],
   "source": [
    "dataset.shape"
   ]
  },
  {
   "cell_type": "markdown",
   "metadata": {
    "colab_type": "text",
    "id": "JkFJPihW9bja"
   },
   "source": [
    "## Notes\n",
    "You have to run the notebook from the start. `dataset` is first defined [here](#dataset)."
   ]
  },
  {
   "cell_type": "code",
   "execution_count": 11,
   "metadata": {
    "colab": {
     "base_uri": "https://localhost:8080/",
     "height": 356
    },
    "colab_type": "code",
    "id": "fPlZ2LQDnZZd",
    "outputId": "34807d99-debe-4850-afba-83beec659d6e"
   },
   "outputs": [
    {
     "data": {
      "text/html": [
       "<div>\n",
       "<style scoped>\n",
       "    .dataframe tbody tr th:only-of-type {\n",
       "        vertical-align: middle;\n",
       "    }\n",
       "\n",
       "    .dataframe tbody tr th {\n",
       "        vertical-align: top;\n",
       "    }\n",
       "\n",
       "    .dataframe thead th {\n",
       "        text-align: right;\n",
       "    }\n",
       "</style>\n",
       "<table border=\"1\" class=\"dataframe\">\n",
       "  <thead>\n",
       "    <tr style=\"text-align: right;\">\n",
       "      <th></th>\n",
       "      <th>age</th>\n",
       "      <th>weight</th>\n",
       "      <th>height</th>\n",
       "      <th>temperature</th>\n",
       "      <th>sp02</th>\n",
       "      <th>gender</th>\n",
       "      <th>fever</th>\n",
       "      <th>cough</th>\n",
       "      <th>runny_nose</th>\n",
       "      <th>headache</th>\n",
       "      <th>muscle_aches</th>\n",
       "      <th>fatigue</th>\n",
       "      <th>target</th>\n",
       "    </tr>\n",
       "  </thead>\n",
       "  <tbody>\n",
       "    <tr>\n",
       "      <th>0</th>\n",
       "      <td>67</td>\n",
       "      <td>127</td>\n",
       "      <td>124</td>\n",
       "      <td>38.2</td>\n",
       "      <td>95</td>\n",
       "      <td>M</td>\n",
       "      <td>YES</td>\n",
       "      <td>YES</td>\n",
       "      <td>YES</td>\n",
       "      <td>NO</td>\n",
       "      <td>NO</td>\n",
       "      <td>NO</td>\n",
       "      <td>1</td>\n",
       "    </tr>\n",
       "    <tr>\n",
       "      <th>1</th>\n",
       "      <td>17</td>\n",
       "      <td>122</td>\n",
       "      <td>267</td>\n",
       "      <td>37.7</td>\n",
       "      <td>89</td>\n",
       "      <td>M</td>\n",
       "      <td>YES</td>\n",
       "      <td>NO</td>\n",
       "      <td>NO</td>\n",
       "      <td>NO</td>\n",
       "      <td>NO</td>\n",
       "      <td>NO</td>\n",
       "      <td>1</td>\n",
       "    </tr>\n",
       "    <tr>\n",
       "      <th>2</th>\n",
       "      <td>75</td>\n",
       "      <td>49</td>\n",
       "      <td>299</td>\n",
       "      <td>38.6</td>\n",
       "      <td>90</td>\n",
       "      <td>M</td>\n",
       "      <td>NO</td>\n",
       "      <td>NO</td>\n",
       "      <td>NO</td>\n",
       "      <td>NO</td>\n",
       "      <td>NO</td>\n",
       "      <td>YES</td>\n",
       "      <td>1</td>\n",
       "    </tr>\n",
       "    <tr>\n",
       "      <th>3</th>\n",
       "      <td>29</td>\n",
       "      <td>43</td>\n",
       "      <td>199</td>\n",
       "      <td>39.2</td>\n",
       "      <td>89</td>\n",
       "      <td>F</td>\n",
       "      <td>NO</td>\n",
       "      <td>YES</td>\n",
       "      <td>NO</td>\n",
       "      <td>YES</td>\n",
       "      <td>NO</td>\n",
       "      <td>NO</td>\n",
       "      <td>1</td>\n",
       "    </tr>\n",
       "    <tr>\n",
       "      <th>4</th>\n",
       "      <td>17</td>\n",
       "      <td>168</td>\n",
       "      <td>163</td>\n",
       "      <td>38.1</td>\n",
       "      <td>91</td>\n",
       "      <td>M</td>\n",
       "      <td>NO</td>\n",
       "      <td>NO</td>\n",
       "      <td>NO</td>\n",
       "      <td>NO</td>\n",
       "      <td>NO</td>\n",
       "      <td>NO</td>\n",
       "      <td>1</td>\n",
       "    </tr>\n",
       "    <tr>\n",
       "      <th>5</th>\n",
       "      <td>77</td>\n",
       "      <td>74</td>\n",
       "      <td>191</td>\n",
       "      <td>38.6</td>\n",
       "      <td>92</td>\n",
       "      <td>M</td>\n",
       "      <td>NO</td>\n",
       "      <td>NO</td>\n",
       "      <td>NO</td>\n",
       "      <td>NO</td>\n",
       "      <td>NO</td>\n",
       "      <td>YES</td>\n",
       "      <td>1</td>\n",
       "    </tr>\n",
       "    <tr>\n",
       "      <th>6</th>\n",
       "      <td>16</td>\n",
       "      <td>170</td>\n",
       "      <td>172</td>\n",
       "      <td>35.0</td>\n",
       "      <td>90</td>\n",
       "      <td>F</td>\n",
       "      <td>NO</td>\n",
       "      <td>NO</td>\n",
       "      <td>YES</td>\n",
       "      <td>NO</td>\n",
       "      <td>NO</td>\n",
       "      <td>NO</td>\n",
       "      <td>1</td>\n",
       "    </tr>\n",
       "    <tr>\n",
       "      <th>7</th>\n",
       "      <td>49</td>\n",
       "      <td>67</td>\n",
       "      <td>157</td>\n",
       "      <td>39.4</td>\n",
       "      <td>94</td>\n",
       "      <td>F</td>\n",
       "      <td>NO</td>\n",
       "      <td>NO</td>\n",
       "      <td>NO</td>\n",
       "      <td>NO</td>\n",
       "      <td>NO</td>\n",
       "      <td>NO</td>\n",
       "      <td>1</td>\n",
       "    </tr>\n",
       "    <tr>\n",
       "      <th>8</th>\n",
       "      <td>20</td>\n",
       "      <td>176</td>\n",
       "      <td>212</td>\n",
       "      <td>36.6</td>\n",
       "      <td>96</td>\n",
       "      <td>F</td>\n",
       "      <td>YES</td>\n",
       "      <td>NO</td>\n",
       "      <td>NO</td>\n",
       "      <td>NO</td>\n",
       "      <td>NO</td>\n",
       "      <td>NO</td>\n",
       "      <td>1</td>\n",
       "    </tr>\n",
       "    <tr>\n",
       "      <th>9</th>\n",
       "      <td>38</td>\n",
       "      <td>177</td>\n",
       "      <td>280</td>\n",
       "      <td>36.8</td>\n",
       "      <td>91</td>\n",
       "      <td>F</td>\n",
       "      <td>NO</td>\n",
       "      <td>NO</td>\n",
       "      <td>NO</td>\n",
       "      <td>NO</td>\n",
       "      <td>NO</td>\n",
       "      <td>NO</td>\n",
       "      <td>1</td>\n",
       "    </tr>\n",
       "  </tbody>\n",
       "</table>\n",
       "</div>"
      ],
      "text/plain": [
       "   age  weight  height  temperature  sp02 gender fever cough runny_nose  \\\n",
       "0   67     127     124         38.2    95      M   YES   YES        YES   \n",
       "1   17     122     267         37.7    89      M   YES    NO         NO   \n",
       "2   75      49     299         38.6    90      M    NO    NO         NO   \n",
       "3   29      43     199         39.2    89      F    NO   YES         NO   \n",
       "4   17     168     163         38.1    91      M    NO    NO         NO   \n",
       "5   77      74     191         38.6    92      M    NO    NO         NO   \n",
       "6   16     170     172         35.0    90      F    NO    NO        YES   \n",
       "7   49      67     157         39.4    94      F    NO    NO         NO   \n",
       "8   20     176     212         36.6    96      F   YES    NO         NO   \n",
       "9   38     177     280         36.8    91      F    NO    NO         NO   \n",
       "\n",
       "  headache muscle_aches fatigue  target  \n",
       "0       NO           NO      NO       1  \n",
       "1       NO           NO      NO       1  \n",
       "2       NO           NO     YES       1  \n",
       "3      YES           NO      NO       1  \n",
       "4       NO           NO      NO       1  \n",
       "5       NO           NO     YES       1  \n",
       "6       NO           NO      NO       1  \n",
       "7       NO           NO      NO       1  \n",
       "8       NO           NO      NO       1  \n",
       "9       NO           NO      NO       1  "
      ]
     },
     "execution_count": 11,
     "metadata": {},
     "output_type": "execute_result"
    }
   ],
   "source": [
    "dataset.head(10)"
   ]
  },
  {
   "cell_type": "code",
   "execution_count": 12,
   "metadata": {
    "colab": {},
    "colab_type": "code",
    "id": "MbTi8tLnoWK1"
   },
   "outputs": [],
   "source": [
    "# dataset.to_csv('covid.csv', index=False)"
   ]
  },
  {
   "cell_type": "markdown",
   "metadata": {},
   "source": [
    "## Data Visualization"
   ]
  },
  {
   "cell_type": "code",
   "execution_count": 13,
   "metadata": {
    "colab": {
     "base_uri": "https://localhost:8080/",
     "height": 356
    },
    "colab_type": "code",
    "id": "DslDGZvS_kcE",
    "outputId": "293ea0c3-774d-4e51-81cd-1f001e75727d"
   },
   "outputs": [
    {
     "data": {
      "image/png": "[encoded data removed]",
      "text/plain": [
       "<Figure size 1440x1080 with 6 Axes>"
      ]
     },
     "metadata": {
      "needs_background": "light"
     },
     "output_type": "display_data"
    }
   ],
   "source": [
    "%matplotlib inline \n",
    "import matplotlib.pyplot as plt\n",
    "dataset.hist(bins=50, figsize=(20, 15))\n",
    "plt.show()"
   ]
  },
  {
   "cell_type": "markdown",
   "metadata": {},
   "source": [
    "## Save the test set"
   ]
  },
  {
   "cell_type": "code",
   "execution_count": 18,
   "metadata": {},
   "outputs": [],
   "source": [
    "from sklearn.model_selection import train_test_split\n",
    "train_set, test_set = train_test_split(dataset, test_size=0.2)"
   ]
  },
  {
   "cell_type": "code",
   "execution_count": 19,
   "metadata": {
    "scrolled": true
   },
   "outputs": [
    {
     "data": {
      "text/plain": [
       "((40000, 13), (10000, 13))"
      ]
     },
     "execution_count": 19,
     "metadata": {},
     "output_type": "execute_result"
    }
   ],
   "source": [
    "train_set.shape, test_set.shape"
   ]
  },
  {
   "cell_type": "code",
   "execution_count": 20,
   "metadata": {},
   "outputs": [
    {
     "data": {
      "text/plain": [
       "0    23990\n",
       "1    16010\n",
       "Name: target, dtype: int64"
      ]
     },
     "execution_count": 20,
     "metadata": {},
     "output_type": "execute_result"
    }
   ],
   "source": [
    "# Distribution, Train\n",
    "train_set.target.value_counts()"
   ]
  },
  {
   "cell_type": "code",
   "execution_count": 21,
   "metadata": {
    "scrolled": true
   },
   "outputs": [
    {
     "data": {
      "text/plain": [
       "0    6010\n",
       "1    3990\n",
       "Name: target, dtype: int64"
      ]
     },
     "execution_count": 21,
     "metadata": {},
     "output_type": "execute_result"
    }
   ],
   "source": [
    "# Distribution, Test\n",
    "test_set.target.value_counts()"
   ]
  },
  {
   "cell_type": "code",
   "execution_count": 22,
   "metadata": {},
   "outputs": [
    {
     "data": {
      "text/plain": [
       "(0.400175, 0.3993)"
      ]
     },
     "execution_count": 22,
     "metadata": {},
     "output_type": "execute_result"
    }
   ],
   "source": [
    "16007/(23993+16007), 3993 / (6007+3993)"
   ]
  },
  {
   "cell_type": "code",
   "execution_count": 23,
   "metadata": {
    "scrolled": true
   },
   "outputs": [
    {
     "data": {
      "text/plain": [
       "age               int64\n",
       "weight            int64\n",
       "height            int64\n",
       "temperature     float64\n",
       "sp02              int64\n",
       "gender           object\n",
       "fever            object\n",
       "cough            object\n",
       "runny_nose       object\n",
       "headache         object\n",
       "muscle_aches     object\n",
       "fatigue          object\n",
       "target            int64\n",
       "dtype: object"
      ]
     },
     "execution_count": 23,
     "metadata": {},
     "output_type": "execute_result"
    }
   ],
   "source": [
    "dataset.dtypes"
   ]
  },
  {
   "cell_type": "markdown",
   "metadata": {},
   "source": [
    "## Encoding the categorical categories\n",
    "- One Hot encoder \n",
    "- Label Encoder\n",
    "\n",
    "A significant challenge, particularly when dealing with data that have many categorical columns, is ensuring each column gets encoded correctly.\n",
    "\n",
    "This is particularly true with data columns that are ordered categoricals (ordinals) vs unordered categoricals. Unordered categoricals should be one-hot encoded (given the categories don't have mathematical difference i.e. yes is not greater or less than no, but 1 is greater than one), however this can significantly increase the number of features and creates features that are highly correlated with each other."
   ]
  },
  {
   "cell_type": "code",
   "execution_count": 24,
   "metadata": {},
   "outputs": [],
   "source": [
    "# Select the object (string) columns\n",
    "mask = dataset.dtypes == np.object\n",
    "categorical_cols = dataset.columns[mask]"
   ]
  },
  {
   "cell_type": "code",
   "execution_count": 25,
   "metadata": {},
   "outputs": [
    {
     "data": {
      "text/plain": [
       "Index(['gender', 'fever', 'cough', 'runny_nose', 'headache', 'muscle_aches',\n",
       "       'fatigue'],\n",
       "      dtype='object')"
      ]
     },
     "execution_count": 25,
     "metadata": {},
     "output_type": "execute_result"
    }
   ],
   "source": [
    "categorical_cols"
   ]
  },
  {
   "cell_type": "code",
   "execution_count": 26,
   "metadata": {
    "cellView": "code",
    "colab": {
     "base_uri": "https://localhost:8080/",
     "height": 190
    },
    "colab_type": "code",
    "id": "9pY-Ahgw_nmA",
    "outputId": "d7654ca0-da15-4019-d0a0-21ef770b32bc"
   },
   "outputs": [],
   "source": [
    "from sklearn.preprocessing import OrdinalEncoder, OneHotEncoder, LabelEncoder"
   ]
  },
  {
   "cell_type": "markdown",
   "metadata": {},
   "source": [
    "## Comparison strategy.\n",
    "`LabelEncoder` used with `OneHotEncoder` Vs `OrdinalEncoder`"
   ]
  },
  {
   "cell_type": "code",
   "execution_count": 27,
   "metadata": {
    "colab": {
     "base_uri": "https://localhost:8080/",
     "height": 190
    },
    "colab_type": "code",
    "id": "7JBEHSDotA9Y",
    "outputId": "1d7dbc5a-345f-48c4-b6cd-eb2909368894"
   },
   "outputs": [],
   "source": [
    "# Helper Encoding function\n",
    "def ordinal_encoder(column):\n",
    "    OE = OrdinalEncoder()\n",
    "    encoded = OE.fit_transform(column)\n",
    "    return encoded\n",
    "\n",
    "def one_hot_encoder(column):\n",
    "    OHE = OneHotEncoder()\n",
    "    encoded = OHE.fit_transform(column)\n",
    "    return encoded"
   ]
  },
  {
   "cell_type": "code",
   "execution_count": 28,
   "metadata": {
    "colab": {
     "base_uri": "https://localhost:8080/",
     "height": 190
    },
    "colab_type": "code",
    "id": "HwrDoISrtYuE",
    "outputId": "0a0f8abe-164b-4c64-d771-24e914241be7",
    "scrolled": true
   },
   "outputs": [],
   "source": [
    "# dump = [ordinal_encoder(train_set[[column]]) for column in categorical_cols]\n",
    "train_set_encoded = pd.DataFrame()\n",
    "for column in categorical_cols:\n",
    "    encoded = ordinal_encoder(train_set[[column]])\n",
    "    temp = pd.DataFrame(encoded, columns=[column])\n",
    "    train_set_encoded = pd.concat([train_set_encoded, temp], axis=1)"
   ]
  },
  {
   "cell_type": "code",
   "execution_count": 29,
   "metadata": {
    "scrolled": true
   },
   "outputs": [
    {
     "data": {
      "text/html": [
       "<div>\n",
       "<style scoped>\n",
       "    .dataframe tbody tr th:only-of-type {\n",
       "        vertical-align: middle;\n",
       "    }\n",
       "\n",
       "    .dataframe tbody tr th {\n",
       "        vertical-align: top;\n",
       "    }\n",
       "\n",
       "    .dataframe thead th {\n",
       "        text-align: right;\n",
       "    }\n",
       "</style>\n",
       "<table border=\"1\" class=\"dataframe\">\n",
       "  <thead>\n",
       "    <tr style=\"text-align: right;\">\n",
       "      <th></th>\n",
       "      <th>gender</th>\n",
       "      <th>fever</th>\n",
       "      <th>cough</th>\n",
       "      <th>runny_nose</th>\n",
       "      <th>headache</th>\n",
       "      <th>muscle_aches</th>\n",
       "      <th>fatigue</th>\n",
       "    </tr>\n",
       "  </thead>\n",
       "  <tbody>\n",
       "    <tr>\n",
       "      <th>0</th>\n",
       "      <td>0.0</td>\n",
       "      <td>0.0</td>\n",
       "      <td>0.0</td>\n",
       "      <td>0.0</td>\n",
       "      <td>0.0</td>\n",
       "      <td>0.0</td>\n",
       "      <td>0.0</td>\n",
       "    </tr>\n",
       "    <tr>\n",
       "      <th>1</th>\n",
       "      <td>0.0</td>\n",
       "      <td>1.0</td>\n",
       "      <td>1.0</td>\n",
       "      <td>0.0</td>\n",
       "      <td>0.0</td>\n",
       "      <td>0.0</td>\n",
       "      <td>1.0</td>\n",
       "    </tr>\n",
       "    <tr>\n",
       "      <th>2</th>\n",
       "      <td>0.0</td>\n",
       "      <td>0.0</td>\n",
       "      <td>0.0</td>\n",
       "      <td>0.0</td>\n",
       "      <td>0.0</td>\n",
       "      <td>0.0</td>\n",
       "      <td>1.0</td>\n",
       "    </tr>\n",
       "    <tr>\n",
       "      <th>3</th>\n",
       "      <td>1.0</td>\n",
       "      <td>0.0</td>\n",
       "      <td>1.0</td>\n",
       "      <td>0.0</td>\n",
       "      <td>0.0</td>\n",
       "      <td>0.0</td>\n",
       "      <td>0.0</td>\n",
       "    </tr>\n",
       "    <tr>\n",
       "      <th>4</th>\n",
       "      <td>0.0</td>\n",
       "      <td>0.0</td>\n",
       "      <td>0.0</td>\n",
       "      <td>0.0</td>\n",
       "      <td>1.0</td>\n",
       "      <td>0.0</td>\n",
       "      <td>0.0</td>\n",
       "    </tr>\n",
       "  </tbody>\n",
       "</table>\n",
       "</div>"
      ],
      "text/plain": [
       "   gender  fever  cough  runny_nose  headache  muscle_aches  fatigue\n",
       "0     0.0    0.0    0.0         0.0       0.0           0.0      0.0\n",
       "1     0.0    1.0    1.0         0.0       0.0           0.0      1.0\n",
       "2     0.0    0.0    0.0         0.0       0.0           0.0      1.0\n",
       "3     1.0    0.0    1.0         0.0       0.0           0.0      0.0\n",
       "4     0.0    0.0    0.0         0.0       1.0           0.0      0.0"
      ]
     },
     "execution_count": 29,
     "metadata": {},
     "output_type": "execute_result"
    }
   ],
   "source": [
    "train_set_encoded.head()"
   ]
  },
  {
   "cell_type": "code",
   "execution_count": 30,
   "metadata": {},
   "outputs": [
    {
     "data": {
      "text/html": [
       "<div>\n",
       "<style scoped>\n",
       "    .dataframe tbody tr th:only-of-type {\n",
       "        vertical-align: middle;\n",
       "    }\n",
       "\n",
       "    .dataframe tbody tr th {\n",
       "        vertical-align: top;\n",
       "    }\n",
       "\n",
       "    .dataframe thead th {\n",
       "        text-align: right;\n",
       "    }\n",
       "</style>\n",
       "<table border=\"1\" class=\"dataframe\">\n",
       "  <thead>\n",
       "    <tr style=\"text-align: right;\">\n",
       "      <th></th>\n",
       "      <th>age</th>\n",
       "      <th>height</th>\n",
       "      <th>weight</th>\n",
       "      <th>target</th>\n",
       "    </tr>\n",
       "  </thead>\n",
       "  <tbody>\n",
       "    <tr>\n",
       "      <th>0</th>\n",
       "      <td>68</td>\n",
       "      <td>179</td>\n",
       "      <td>102</td>\n",
       "      <td>0</td>\n",
       "    </tr>\n",
       "    <tr>\n",
       "      <th>1</th>\n",
       "      <td>19</td>\n",
       "      <td>250</td>\n",
       "      <td>48</td>\n",
       "      <td>1</td>\n",
       "    </tr>\n",
       "    <tr>\n",
       "      <th>2</th>\n",
       "      <td>69</td>\n",
       "      <td>279</td>\n",
       "      <td>64</td>\n",
       "      <td>0</td>\n",
       "    </tr>\n",
       "    <tr>\n",
       "      <th>3</th>\n",
       "      <td>43</td>\n",
       "      <td>125</td>\n",
       "      <td>37</td>\n",
       "      <td>1</td>\n",
       "    </tr>\n",
       "    <tr>\n",
       "      <th>4</th>\n",
       "      <td>64</td>\n",
       "      <td>144</td>\n",
       "      <td>146</td>\n",
       "      <td>1</td>\n",
       "    </tr>\n",
       "    <tr>\n",
       "      <th>...</th>\n",
       "      <td>...</td>\n",
       "      <td>...</td>\n",
       "      <td>...</td>\n",
       "      <td>...</td>\n",
       "    </tr>\n",
       "    <tr>\n",
       "      <th>39995</th>\n",
       "      <td>30</td>\n",
       "      <td>281</td>\n",
       "      <td>144</td>\n",
       "      <td>0</td>\n",
       "    </tr>\n",
       "    <tr>\n",
       "      <th>39996</th>\n",
       "      <td>37</td>\n",
       "      <td>274</td>\n",
       "      <td>67</td>\n",
       "      <td>0</td>\n",
       "    </tr>\n",
       "    <tr>\n",
       "      <th>39997</th>\n",
       "      <td>47</td>\n",
       "      <td>223</td>\n",
       "      <td>62</td>\n",
       "      <td>0</td>\n",
       "    </tr>\n",
       "    <tr>\n",
       "      <th>39998</th>\n",
       "      <td>74</td>\n",
       "      <td>130</td>\n",
       "      <td>65</td>\n",
       "      <td>1</td>\n",
       "    </tr>\n",
       "    <tr>\n",
       "      <th>39999</th>\n",
       "      <td>25</td>\n",
       "      <td>171</td>\n",
       "      <td>44</td>\n",
       "      <td>0</td>\n",
       "    </tr>\n",
       "  </tbody>\n",
       "</table>\n",
       "<p>40000 rows × 4 columns</p>\n",
       "</div>"
      ],
      "text/plain": [
       "       age  height  weight  target\n",
       "0       68     179     102       0\n",
       "1       19     250      48       1\n",
       "2       69     279      64       0\n",
       "3       43     125      37       1\n",
       "4       64     144     146       1\n",
       "...    ...     ...     ...     ...\n",
       "39995   30     281     144       0\n",
       "39996   37     274      67       0\n",
       "39997   47     223      62       0\n",
       "39998   74     130      65       1\n",
       "39999   25     171      44       0\n",
       "\n",
       "[40000 rows x 4 columns]"
      ]
     },
     "execution_count": 30,
     "metadata": {},
     "output_type": "execute_result"
    }
   ],
   "source": [
    "df = train_set[['age', 'height', 'weight', 'target']].reset_index(drop=True)\n",
    "df"
   ]
  },
  {
   "cell_type": "code",
   "execution_count": 31,
   "metadata": {
    "scrolled": false
   },
   "outputs": [
    {
     "data": {
      "text/html": [
       "<div>\n",
       "<style scoped>\n",
       "    .dataframe tbody tr th:only-of-type {\n",
       "        vertical-align: middle;\n",
       "    }\n",
       "\n",
       "    .dataframe tbody tr th {\n",
       "        vertical-align: top;\n",
       "    }\n",
       "\n",
       "    .dataframe thead th {\n",
       "        text-align: right;\n",
       "    }\n",
       "</style>\n",
       "<table border=\"1\" class=\"dataframe\">\n",
       "  <thead>\n",
       "    <tr style=\"text-align: right;\">\n",
       "      <th></th>\n",
       "      <th>gender</th>\n",
       "      <th>fever</th>\n",
       "      <th>cough</th>\n",
       "      <th>runny_nose</th>\n",
       "      <th>headache</th>\n",
       "      <th>muscle_aches</th>\n",
       "      <th>fatigue</th>\n",
       "      <th>age</th>\n",
       "      <th>height</th>\n",
       "      <th>weight</th>\n",
       "      <th>target</th>\n",
       "    </tr>\n",
       "  </thead>\n",
       "  <tbody>\n",
       "    <tr>\n",
       "      <th>0</th>\n",
       "      <td>0.0</td>\n",
       "      <td>0.0</td>\n",
       "      <td>0.0</td>\n",
       "      <td>0.0</td>\n",
       "      <td>0.0</td>\n",
       "      <td>0.0</td>\n",
       "      <td>0.0</td>\n",
       "      <td>68</td>\n",
       "      <td>179</td>\n",
       "      <td>102</td>\n",
       "      <td>0</td>\n",
       "    </tr>\n",
       "    <tr>\n",
       "      <th>1</th>\n",
       "      <td>0.0</td>\n",
       "      <td>1.0</td>\n",
       "      <td>1.0</td>\n",
       "      <td>0.0</td>\n",
       "      <td>0.0</td>\n",
       "      <td>0.0</td>\n",
       "      <td>1.0</td>\n",
       "      <td>19</td>\n",
       "      <td>250</td>\n",
       "      <td>48</td>\n",
       "      <td>1</td>\n",
       "    </tr>\n",
       "    <tr>\n",
       "      <th>2</th>\n",
       "      <td>0.0</td>\n",
       "      <td>0.0</td>\n",
       "      <td>0.0</td>\n",
       "      <td>0.0</td>\n",
       "      <td>0.0</td>\n",
       "      <td>0.0</td>\n",
       "      <td>1.0</td>\n",
       "      <td>69</td>\n",
       "      <td>279</td>\n",
       "      <td>64</td>\n",
       "      <td>0</td>\n",
       "    </tr>\n",
       "    <tr>\n",
       "      <th>3</th>\n",
       "      <td>1.0</td>\n",
       "      <td>0.0</td>\n",
       "      <td>1.0</td>\n",
       "      <td>0.0</td>\n",
       "      <td>0.0</td>\n",
       "      <td>0.0</td>\n",
       "      <td>0.0</td>\n",
       "      <td>43</td>\n",
       "      <td>125</td>\n",
       "      <td>37</td>\n",
       "      <td>1</td>\n",
       "    </tr>\n",
       "    <tr>\n",
       "      <th>4</th>\n",
       "      <td>0.0</td>\n",
       "      <td>0.0</td>\n",
       "      <td>0.0</td>\n",
       "      <td>0.0</td>\n",
       "      <td>1.0</td>\n",
       "      <td>0.0</td>\n",
       "      <td>0.0</td>\n",
       "      <td>64</td>\n",
       "      <td>144</td>\n",
       "      <td>146</td>\n",
       "      <td>1</td>\n",
       "    </tr>\n",
       "    <tr>\n",
       "      <th>...</th>\n",
       "      <td>...</td>\n",
       "      <td>...</td>\n",
       "      <td>...</td>\n",
       "      <td>...</td>\n",
       "      <td>...</td>\n",
       "      <td>...</td>\n",
       "      <td>...</td>\n",
       "      <td>...</td>\n",
       "      <td>...</td>\n",
       "      <td>...</td>\n",
       "      <td>...</td>\n",
       "    </tr>\n",
       "    <tr>\n",
       "      <th>39995</th>\n",
       "      <td>1.0</td>\n",
       "      <td>0.0</td>\n",
       "      <td>0.0</td>\n",
       "      <td>0.0</td>\n",
       "      <td>0.0</td>\n",
       "      <td>0.0</td>\n",
       "      <td>0.0</td>\n",
       "      <td>30</td>\n",
       "      <td>281</td>\n",
       "      <td>144</td>\n",
       "      <td>0</td>\n",
       "    </tr>\n",
       "    <tr>\n",
       "      <th>39996</th>\n",
       "      <td>1.0</td>\n",
       "      <td>0.0</td>\n",
       "      <td>0.0</td>\n",
       "      <td>0.0</td>\n",
       "      <td>0.0</td>\n",
       "      <td>0.0</td>\n",
       "      <td>0.0</td>\n",
       "      <td>37</td>\n",
       "      <td>274</td>\n",
       "      <td>67</td>\n",
       "      <td>0</td>\n",
       "    </tr>\n",
       "    <tr>\n",
       "      <th>39997</th>\n",
       "      <td>1.0</td>\n",
       "      <td>0.0</td>\n",
       "      <td>0.0</td>\n",
       "      <td>0.0</td>\n",
       "      <td>0.0</td>\n",
       "      <td>0.0</td>\n",
       "      <td>0.0</td>\n",
       "      <td>47</td>\n",
       "      <td>223</td>\n",
       "      <td>62</td>\n",
       "      <td>0</td>\n",
       "    </tr>\n",
       "    <tr>\n",
       "      <th>39998</th>\n",
       "      <td>0.0</td>\n",
       "      <td>0.0</td>\n",
       "      <td>0.0</td>\n",
       "      <td>0.0</td>\n",
       "      <td>0.0</td>\n",
       "      <td>0.0</td>\n",
       "      <td>0.0</td>\n",
       "      <td>74</td>\n",
       "      <td>130</td>\n",
       "      <td>65</td>\n",
       "      <td>1</td>\n",
       "    </tr>\n",
       "    <tr>\n",
       "      <th>39999</th>\n",
       "      <td>1.0</td>\n",
       "      <td>0.0</td>\n",
       "      <td>0.0</td>\n",
       "      <td>0.0</td>\n",
       "      <td>0.0</td>\n",
       "      <td>0.0</td>\n",
       "      <td>0.0</td>\n",
       "      <td>25</td>\n",
       "      <td>171</td>\n",
       "      <td>44</td>\n",
       "      <td>0</td>\n",
       "    </tr>\n",
       "  </tbody>\n",
       "</table>\n",
       "<p>40000 rows × 11 columns</p>\n",
       "</div>"
      ],
      "text/plain": [
       "       gender  fever  cough  runny_nose  headache  muscle_aches  fatigue  age  \\\n",
       "0         0.0    0.0    0.0         0.0       0.0           0.0      0.0   68   \n",
       "1         0.0    1.0    1.0         0.0       0.0           0.0      1.0   19   \n",
       "2         0.0    0.0    0.0         0.0       0.0           0.0      1.0   69   \n",
       "3         1.0    0.0    1.0         0.0       0.0           0.0      0.0   43   \n",
       "4         0.0    0.0    0.0         0.0       1.0           0.0      0.0   64   \n",
       "...       ...    ...    ...         ...       ...           ...      ...  ...   \n",
       "39995     1.0    0.0    0.0         0.0       0.0           0.0      0.0   30   \n",
       "39996     1.0    0.0    0.0         0.0       0.0           0.0      0.0   37   \n",
       "39997     1.0    0.0    0.0         0.0       0.0           0.0      0.0   47   \n",
       "39998     0.0    0.0    0.0         0.0       0.0           0.0      0.0   74   \n",
       "39999     1.0    0.0    0.0         0.0       0.0           0.0      0.0   25   \n",
       "\n",
       "       height  weight  target  \n",
       "0         179     102       0  \n",
       "1         250      48       1  \n",
       "2         279      64       0  \n",
       "3         125      37       1  \n",
       "4         144     146       1  \n",
       "...       ...     ...     ...  \n",
       "39995     281     144       0  \n",
       "39996     274      67       0  \n",
       "39997     223      62       0  \n",
       "39998     130      65       1  \n",
       "39999     171      44       0  \n",
       "\n",
       "[40000 rows x 11 columns]"
      ]
     },
     "execution_count": 31,
     "metadata": {},
     "output_type": "execute_result"
    }
   ],
   "source": [
    "train_set_encoded = pd.concat([train_set_encoded, df], axis=1)\n",
    "train_set_encoded"
   ]
  },
  {
   "cell_type": "markdown",
   "metadata": {},
   "source": [
    "## Scaling the Numerical Features\n",
    "Two scaling strategies exist, including:\n",
    "- Normalization: Here the values are shifted and rescaled so that they end up in a range of 0 and 1. This is done by subtracting the minimum column value and dividing by maximum values minus the minimum.\n",
    "<br>\n",
    "$ \\Large \\frac{x - min}{max - min} $ \n",
    "- Standardization: With this method, the mean is subtracted from the values (so the values have zero mean), then divided by the standard deviation so that the result distribution has variance of one. Standardization is much lesss affected by outliers.\n",
    "<br>\n",
    "$ \\Large \\frac{x - \\mu_{x}}{\\sigma_{x}} $\n"
   ]
  },
  {
   "cell_type": "code",
   "execution_count": 32,
   "metadata": {
    "scrolled": false
   },
   "outputs": [],
   "source": [
    "from sklearn.preprocessing import StandardScaler, MinMaxScaler"
   ]
  },
  {
   "cell_type": "code",
   "execution_count": 33,
   "metadata": {},
   "outputs": [],
   "source": [
    "# Notes:\n",
    "# The feature scaling is only for original numerical columns."
   ]
  },
  {
   "cell_type": "markdown",
   "metadata": {},
   "source": [
    "## Using a Pipeline to speed up the process.\n",
    "A Pipeline makes it easy to apply transforms in one go."
   ]
  },
  {
   "cell_type": "code",
   "execution_count": 34,
   "metadata": {},
   "outputs": [],
   "source": [
    "from sklearn.compose import ColumnTransformer"
   ]
  },
  {
   "cell_type": "code",
   "execution_count": 35,
   "metadata": {
    "scrolled": true
   },
   "outputs": [
    {
     "data": {
      "text/plain": [
       "Index(['gender', 'fever', 'cough', 'runny_nose', 'headache', 'muscle_aches',\n",
       "       'fatigue'],\n",
       "      dtype='object')"
      ]
     },
     "execution_count": 35,
     "metadata": {},
     "output_type": "execute_result"
    }
   ],
   "source": [
    "categorical_cols"
   ]
  },
  {
   "cell_type": "code",
   "execution_count": 36,
   "metadata": {},
   "outputs": [
    {
     "data": {
      "text/plain": [
       "20466    0\n",
       "3642     1\n",
       "25146    0\n",
       "3540     1\n",
       "2012     1\n",
       "        ..\n",
       "973      0\n",
       "2523     0\n",
       "19028    0\n",
       "6490     1\n",
       "6353     0\n",
       "Name: target, Length: 40000, dtype: int64"
      ]
     },
     "execution_count": 36,
     "metadata": {},
     "output_type": "execute_result"
    }
   ],
   "source": [
    "X_train = train_set.drop('target', axis=1)\n",
    "y_train = train_set['target']\n",
    "y_train"
   ]
  },
  {
   "cell_type": "code",
   "execution_count": 37,
   "metadata": {},
   "outputs": [
    {
     "data": {
      "text/html": [
       "<div>\n",
       "<style scoped>\n",
       "    .dataframe tbody tr th:only-of-type {\n",
       "        vertical-align: middle;\n",
       "    }\n",
       "\n",
       "    .dataframe tbody tr th {\n",
       "        vertical-align: top;\n",
       "    }\n",
       "\n",
       "    .dataframe thead th {\n",
       "        text-align: right;\n",
       "    }\n",
       "</style>\n",
       "<table border=\"1\" class=\"dataframe\">\n",
       "  <thead>\n",
       "    <tr style=\"text-align: right;\">\n",
       "      <th></th>\n",
       "      <th>age</th>\n",
       "      <th>weight</th>\n",
       "      <th>height</th>\n",
       "      <th>temperature</th>\n",
       "      <th>sp02</th>\n",
       "    </tr>\n",
       "  </thead>\n",
       "  <tbody>\n",
       "    <tr>\n",
       "      <th>20466</th>\n",
       "      <td>68</td>\n",
       "      <td>102</td>\n",
       "      <td>179</td>\n",
       "      <td>38.0</td>\n",
       "      <td>98</td>\n",
       "    </tr>\n",
       "    <tr>\n",
       "      <th>3642</th>\n",
       "      <td>19</td>\n",
       "      <td>48</td>\n",
       "      <td>250</td>\n",
       "      <td>35.4</td>\n",
       "      <td>88</td>\n",
       "    </tr>\n",
       "    <tr>\n",
       "      <th>25146</th>\n",
       "      <td>69</td>\n",
       "      <td>64</td>\n",
       "      <td>279</td>\n",
       "      <td>37.9</td>\n",
       "      <td>91</td>\n",
       "    </tr>\n",
       "    <tr>\n",
       "      <th>3540</th>\n",
       "      <td>43</td>\n",
       "      <td>37</td>\n",
       "      <td>125</td>\n",
       "      <td>34.3</td>\n",
       "      <td>94</td>\n",
       "    </tr>\n",
       "    <tr>\n",
       "      <th>2012</th>\n",
       "      <td>64</td>\n",
       "      <td>146</td>\n",
       "      <td>144</td>\n",
       "      <td>39.1</td>\n",
       "      <td>95</td>\n",
       "    </tr>\n",
       "    <tr>\n",
       "      <th>...</th>\n",
       "      <td>...</td>\n",
       "      <td>...</td>\n",
       "      <td>...</td>\n",
       "      <td>...</td>\n",
       "      <td>...</td>\n",
       "    </tr>\n",
       "    <tr>\n",
       "      <th>973</th>\n",
       "      <td>30</td>\n",
       "      <td>144</td>\n",
       "      <td>281</td>\n",
       "      <td>34.2</td>\n",
       "      <td>97</td>\n",
       "    </tr>\n",
       "    <tr>\n",
       "      <th>2523</th>\n",
       "      <td>37</td>\n",
       "      <td>67</td>\n",
       "      <td>274</td>\n",
       "      <td>35.1</td>\n",
       "      <td>89</td>\n",
       "    </tr>\n",
       "    <tr>\n",
       "      <th>19028</th>\n",
       "      <td>47</td>\n",
       "      <td>62</td>\n",
       "      <td>223</td>\n",
       "      <td>39.7</td>\n",
       "      <td>95</td>\n",
       "    </tr>\n",
       "    <tr>\n",
       "      <th>6490</th>\n",
       "      <td>74</td>\n",
       "      <td>65</td>\n",
       "      <td>130</td>\n",
       "      <td>35.6</td>\n",
       "      <td>92</td>\n",
       "    </tr>\n",
       "    <tr>\n",
       "      <th>6353</th>\n",
       "      <td>25</td>\n",
       "      <td>44</td>\n",
       "      <td>171</td>\n",
       "      <td>36.1</td>\n",
       "      <td>90</td>\n",
       "    </tr>\n",
       "  </tbody>\n",
       "</table>\n",
       "<p>40000 rows × 5 columns</p>\n",
       "</div>"
      ],
      "text/plain": [
       "       age  weight  height  temperature  sp02\n",
       "20466   68     102     179         38.0    98\n",
       "3642    19      48     250         35.4    88\n",
       "25146   69      64     279         37.9    91\n",
       "3540    43      37     125         34.3    94\n",
       "2012    64     146     144         39.1    95\n",
       "...    ...     ...     ...          ...   ...\n",
       "973     30     144     281         34.2    97\n",
       "2523    37      67     274         35.1    89\n",
       "19028   47      62     223         39.7    95\n",
       "6490    74      65     130         35.6    92\n",
       "6353    25      44     171         36.1    90\n",
       "\n",
       "[40000 rows x 5 columns]"
      ]
     },
     "execution_count": 37,
     "metadata": {},
     "output_type": "execute_result"
    }
   ],
   "source": [
    "X_train_num = X_train.drop(categorical_cols, axis=1)\n",
    "X_train_num"
   ]
  },
  {
   "cell_type": "code",
   "execution_count": 38,
   "metadata": {},
   "outputs": [
    {
     "data": {
      "text/html": [
       "<div>\n",
       "<style scoped>\n",
       "    .dataframe tbody tr th:only-of-type {\n",
       "        vertical-align: middle;\n",
       "    }\n",
       "\n",
       "    .dataframe tbody tr th {\n",
       "        vertical-align: top;\n",
       "    }\n",
       "\n",
       "    .dataframe thead th {\n",
       "        text-align: right;\n",
       "    }\n",
       "</style>\n",
       "<table border=\"1\" class=\"dataframe\">\n",
       "  <thead>\n",
       "    <tr style=\"text-align: right;\">\n",
       "      <th></th>\n",
       "      <th>gender</th>\n",
       "      <th>fever</th>\n",
       "      <th>cough</th>\n",
       "      <th>runny_nose</th>\n",
       "      <th>headache</th>\n",
       "      <th>muscle_aches</th>\n",
       "      <th>fatigue</th>\n",
       "    </tr>\n",
       "  </thead>\n",
       "  <tbody>\n",
       "    <tr>\n",
       "      <th>20466</th>\n",
       "      <td>F</td>\n",
       "      <td>NO</td>\n",
       "      <td>NO</td>\n",
       "      <td>NO</td>\n",
       "      <td>NO</td>\n",
       "      <td>NO</td>\n",
       "      <td>NO</td>\n",
       "    </tr>\n",
       "    <tr>\n",
       "      <th>3642</th>\n",
       "      <td>F</td>\n",
       "      <td>YES</td>\n",
       "      <td>YES</td>\n",
       "      <td>NO</td>\n",
       "      <td>NO</td>\n",
       "      <td>NO</td>\n",
       "      <td>YES</td>\n",
       "    </tr>\n",
       "    <tr>\n",
       "      <th>25146</th>\n",
       "      <td>F</td>\n",
       "      <td>NO</td>\n",
       "      <td>NO</td>\n",
       "      <td>NO</td>\n",
       "      <td>NO</td>\n",
       "      <td>NO</td>\n",
       "      <td>YES</td>\n",
       "    </tr>\n",
       "    <tr>\n",
       "      <th>3540</th>\n",
       "      <td>M</td>\n",
       "      <td>NO</td>\n",
       "      <td>YES</td>\n",
       "      <td>NO</td>\n",
       "      <td>NO</td>\n",
       "      <td>NO</td>\n",
       "      <td>NO</td>\n",
       "    </tr>\n",
       "    <tr>\n",
       "      <th>2012</th>\n",
       "      <td>F</td>\n",
       "      <td>NO</td>\n",
       "      <td>NO</td>\n",
       "      <td>NO</td>\n",
       "      <td>YES</td>\n",
       "      <td>NO</td>\n",
       "      <td>NO</td>\n",
       "    </tr>\n",
       "    <tr>\n",
       "      <th>...</th>\n",
       "      <td>...</td>\n",
       "      <td>...</td>\n",
       "      <td>...</td>\n",
       "      <td>...</td>\n",
       "      <td>...</td>\n",
       "      <td>...</td>\n",
       "      <td>...</td>\n",
       "    </tr>\n",
       "    <tr>\n",
       "      <th>973</th>\n",
       "      <td>M</td>\n",
       "      <td>NO</td>\n",
       "      <td>NO</td>\n",
       "      <td>NO</td>\n",
       "      <td>NO</td>\n",
       "      <td>NO</td>\n",
       "      <td>NO</td>\n",
       "    </tr>\n",
       "    <tr>\n",
       "      <th>2523</th>\n",
       "      <td>M</td>\n",
       "      <td>NO</td>\n",
       "      <td>NO</td>\n",
       "      <td>NO</td>\n",
       "      <td>NO</td>\n",
       "      <td>NO</td>\n",
       "      <td>NO</td>\n",
       "    </tr>\n",
       "    <tr>\n",
       "      <th>19028</th>\n",
       "      <td>M</td>\n",
       "      <td>NO</td>\n",
       "      <td>NO</td>\n",
       "      <td>NO</td>\n",
       "      <td>NO</td>\n",
       "      <td>NO</td>\n",
       "      <td>NO</td>\n",
       "    </tr>\n",
       "    <tr>\n",
       "      <th>6490</th>\n",
       "      <td>F</td>\n",
       "      <td>NO</td>\n",
       "      <td>NO</td>\n",
       "      <td>NO</td>\n",
       "      <td>NO</td>\n",
       "      <td>NO</td>\n",
       "      <td>NO</td>\n",
       "    </tr>\n",
       "    <tr>\n",
       "      <th>6353</th>\n",
       "      <td>M</td>\n",
       "      <td>NO</td>\n",
       "      <td>NO</td>\n",
       "      <td>NO</td>\n",
       "      <td>NO</td>\n",
       "      <td>NO</td>\n",
       "      <td>NO</td>\n",
       "    </tr>\n",
       "  </tbody>\n",
       "</table>\n",
       "<p>40000 rows × 7 columns</p>\n",
       "</div>"
      ],
      "text/plain": [
       "      gender fever cough runny_nose headache muscle_aches fatigue\n",
       "20466      F    NO    NO         NO       NO           NO      NO\n",
       "3642       F   YES   YES         NO       NO           NO     YES\n",
       "25146      F    NO    NO         NO       NO           NO     YES\n",
       "3540       M    NO   YES         NO       NO           NO      NO\n",
       "2012       F    NO    NO         NO      YES           NO      NO\n",
       "...      ...   ...   ...        ...      ...          ...     ...\n",
       "973        M    NO    NO         NO       NO           NO      NO\n",
       "2523       M    NO    NO         NO       NO           NO      NO\n",
       "19028      M    NO    NO         NO       NO           NO      NO\n",
       "6490       F    NO    NO         NO       NO           NO      NO\n",
       "6353       M    NO    NO         NO       NO           NO      NO\n",
       "\n",
       "[40000 rows x 7 columns]"
      ]
     },
     "execution_count": 38,
     "metadata": {},
     "output_type": "execute_result"
    }
   ],
   "source": [
    "X_train_cat = X_train[categorical_cols]\n",
    "X_train_cat"
   ]
  },
  {
   "cell_type": "code",
   "execution_count": 39,
   "metadata": {},
   "outputs": [
    {
     "data": {
      "text/plain": [
       "['age', 'weight', 'height', 'temperature', 'sp02']"
      ]
     },
     "execution_count": 39,
     "metadata": {},
     "output_type": "execute_result"
    }
   ],
   "source": [
    "num_attribs = list(X_train_num)\n",
    "num_attribs"
   ]
  },
  {
   "cell_type": "code",
   "execution_count": 40,
   "metadata": {},
   "outputs": [
    {
     "data": {
      "text/plain": [
       "['gender',\n",
       " 'fever',\n",
       " 'cough',\n",
       " 'runny_nose',\n",
       " 'headache',\n",
       " 'muscle_aches',\n",
       " 'fatigue']"
      ]
     },
     "execution_count": 40,
     "metadata": {},
     "output_type": "execute_result"
    }
   ],
   "source": [
    "cat_attribs = list(X_train_cat)\n",
    "cat_attribs"
   ]
  },
  {
   "cell_type": "code",
   "execution_count": 44,
   "metadata": {},
   "outputs": [],
   "source": [
    "# The Pipeline\n",
    "# pipeline = ColumnTransformer([\n",
    "#     ('scaler', MinMaxScaler(), num_attribs),\n",
    "#     ('encoder', OrdinalEncoder(), cat_attribs),\n",
    "# ])\n",
    "\n",
    "pipeline = ColumnTransformer([\n",
    "    ('scaler', StandardScaler(), num_attribs),\n",
    "    ('encoder', OneHotEncoder(), cat_attribs),\n",
    "])\n",
    "\n",
    "# Notes:\n",
    "# Can easily change to any scaler or encoder to ascertain performance."
   ]
  },
  {
   "cell_type": "code",
   "execution_count": 45,
   "metadata": {},
   "outputs": [
    {
     "data": {
      "text/plain": [
       "(40000, 19)"
      ]
     },
     "execution_count": 45,
     "metadata": {},
     "output_type": "execute_result"
    }
   ],
   "source": [
    "X_train_prepared = pipeline.fit_transform(train_set)\n",
    "X_train_prepared.shape"
   ]
  },
  {
   "cell_type": "code",
   "execution_count": 46,
   "metadata": {},
   "outputs": [
    {
     "data": {
      "text/plain": [
       "array([[ 0.72561071, -0.3174497 , -0.46995479, ...,  0.        ,\n",
       "         1.        ,  0.        ],\n",
       "       [-1.57215419, -1.44913285,  0.82249757, ...,  0.        ,\n",
       "         0.        ,  1.        ],\n",
       "       [ 0.77250387, -1.11381933,  1.35040065, ...,  0.        ,\n",
       "         0.        ,  1.        ],\n",
       "       ...,\n",
       "       [-0.25914568, -1.15573352,  0.3310016 , ...,  0.        ,\n",
       "         1.        ,  0.        ],\n",
       "       [ 1.00696968, -1.09286223, -1.36192896, ...,  0.        ,\n",
       "         1.        ,  0.        ],\n",
       "       [-1.29079523, -1.53296123, -0.61558323, ...,  0.        ,\n",
       "         1.        ,  0.        ]])"
      ]
     },
     "execution_count": 46,
     "metadata": {},
     "output_type": "execute_result"
    }
   ],
   "source": [
    "X_train_prepared"
   ]
  },
  {
   "cell_type": "markdown",
   "metadata": {},
   "source": [
    "## Select and Train Model\n",
    "Start with the simplest models and evaluate.\n",
    "- Logistic regression; is a statistical model that in its basic form uses a logistic function to model a binary dependent variable."
   ]
  },
  {
   "cell_type": "code",
   "execution_count": 48,
   "metadata": {},
   "outputs": [],
   "source": [
    "# 1. Logistic Regression\n",
    "from sklearn.linear_model import LogisticRegression\n",
    "clf = LogisticRegression(random_state=42)\n",
    "\n",
    "# 2. SGDClassifier\n",
    "# from sklearn.linear_model import SGDClassifier\n",
    "# clf = SGDClassifier(loss=\"hinge\", penalty=\"l2\", max_iter=200)\n",
    "\n",
    "# 3. DecisionTreeClassifier\n",
    "# from sklearn.tree import DecisionTreeClassifier\n",
    "# clf = DecisionTreeClassifier()\n",
    "\n",
    "# 4. RandomForestClassifier\n",
    "# from sklearn.ensemble import RandomForestClassifier\n",
    "# clf = RandomForestClassifier()\n",
    "\n",
    "# 5. SVM\n",
    "# from sklearn import svm\n",
    "# from sklearn.utils import shuffle\n",
    "# from sklearn.model_selection import GridSearchCV\n",
    "\n",
    "# parameters = {'gamma' : shuffle([.1, 1, 4]),\n",
    "#               'C'     : shuffle([10, 15]),\n",
    "#               'kernel': ['poly', 'rbf']\n",
    "#             }\n",
    "\n",
    "# svc  = svm.SVC()\n",
    "# GSCV = GridSearchCV(svc, param_grid=parameters, verbose=True, scoring='accuracy', n_jobs=-1)"
   ]
  },
  {
   "cell_type": "code",
   "execution_count": 49,
   "metadata": {
    "scrolled": true
   },
   "outputs": [
    {
     "data": {
      "text/plain": [
       "LogisticRegression(C=1.0, class_weight=None, dual=False, fit_intercept=True,\n",
       "                   intercept_scaling=1, l1_ratio=None, max_iter=100,\n",
       "                   multi_class='auto', n_jobs=None, penalty='l2',\n",
       "                   random_state=42, solver='lbfgs', tol=0.0001, verbose=0,\n",
       "                   warm_start=False)"
      ]
     },
     "execution_count": 49,
     "metadata": {},
     "output_type": "execute_result"
    }
   ],
   "source": [
    "# Fit the data\n",
    "clf.fit(X_train_prepared, y_train)"
   ]
  },
  {
   "cell_type": "markdown",
   "metadata": {},
   "source": [
    "## Save the model"
   ]
  },
  {
   "cell_type": "code",
   "execution_count": 52,
   "metadata": {},
   "outputs": [
    {
     "data": {
      "text/plain": [
       "['epms.joblib']"
      ]
     },
     "execution_count": 52,
     "metadata": {},
     "output_type": "execute_result"
    }
   ],
   "source": [
    "from joblib import dump, load\n",
    "dump(clf, 'epms.joblib')"
   ]
  },
  {
   "cell_type": "markdown",
   "metadata": {},
   "source": [
    "## Performance Measures\n",
    "Evaluation of the model, a test on the second example was done above, and it was correct, but we need a mathematically robust evaluation."
   ]
  },
  {
   "cell_type": "code",
   "execution_count": 50,
   "metadata": {
    "scrolled": true
   },
   "outputs": [
    {
     "data": {
      "text/plain": [
       "array([0.69925 , 0.6945  , 0.703875, 0.6885  , 0.696875])"
      ]
     },
     "execution_count": 50,
     "metadata": {},
     "output_type": "execute_result"
    }
   ],
   "source": [
    "from sklearn.model_selection import cross_val_score\n",
    "cross_val_score(clf, X_train_prepared, y_train, cv=5, scoring=\"accuracy\")\n",
    "# cross_val_score(clf, X_train_prepared, y_train, cv=5, scoring=\"accuracy\")"
   ]
  },
  {
   "cell_type": "markdown",
   "metadata": {},
   "source": [
    "Roughly, 70%. Not so good."
   ]
  },
  {
   "cell_type": "code",
   "execution_count": 43,
   "metadata": {},
   "outputs": [
    {
     "data": {
      "text/plain": [
       "array([0, 0, 0, ..., 1, 0, 0])"
      ]
     },
     "execution_count": 43,
     "metadata": {},
     "output_type": "execute_result"
    }
   ],
   "source": [
    "from sklearn.model_selection import cross_val_predict\n",
    "y_train_pred = cross_val_predict(clf, X_train_prepared, y_train, cv=5)\n",
    "y_train_pred"
   ]
  },
  {
   "cell_type": "code",
   "execution_count": 44,
   "metadata": {},
   "outputs": [
    {
     "data": {
      "text/plain": [
       "array([[15739,  8254],\n",
       "       [10025,  5982]])"
      ]
     },
     "execution_count": 44,
     "metadata": {},
     "output_type": "execute_result"
    }
   ],
   "source": [
    "from sklearn.metrics import confusion_matrix\n",
    "confusion_matrix(y_train, y_train_pred)"
   ]
  },
  {
   "cell_type": "code",
   "execution_count": 45,
   "metadata": {},
   "outputs": [],
   "source": [
    "from sklearn.metrics import precision_score, recall_score"
   ]
  },
  {
   "cell_type": "code",
   "execution_count": 46,
   "metadata": {},
   "outputs": [
    {
     "data": {
      "text/plain": [
       "0.4202023040179826"
      ]
     },
     "execution_count": 46,
     "metadata": {},
     "output_type": "execute_result"
    }
   ],
   "source": [
    "precision_score(y_train, y_train_pred)"
   ]
  },
  {
   "cell_type": "code",
   "execution_count": 47,
   "metadata": {},
   "outputs": [
    {
     "data": {
      "text/plain": [
       "0.37371150121821706"
      ]
     },
     "execution_count": 47,
     "metadata": {},
     "output_type": "execute_result"
    }
   ],
   "source": [
    "recall_score(y_train, y_train_pred)"
   ]
  },
  {
   "cell_type": "code",
   "execution_count": 48,
   "metadata": {},
   "outputs": [],
   "source": [
    "from sklearn.metrics import f1_score"
   ]
  },
  {
   "cell_type": "code",
   "execution_count": 120,
   "metadata": {
    "scrolled": true
   },
   "outputs": [
    {
     "data": {
      "text/plain": [
       "0.39523290746426326"
      ]
     },
     "execution_count": 120,
     "metadata": {},
     "output_type": "execute_result"
    }
   ],
   "source": [
    "f1_score(y_train, y_train_pred)"
   ]
  },
  {
   "cell_type": "markdown",
   "metadata": {},
   "source": [
    "Just a 3% better than a random guess."
   ]
  },
  {
   "cell_type": "code",
   "execution_count": null,
   "metadata": {},
   "outputs": [],
   "source": []
  }
 ],
 "metadata": {
  "colab": {
   "collapsed_sections": [],
   "name": "Synthetic Data Generator and Model Triaining.ipynb",
   "provenance": [],
   "toc_visible": true
  },
  "kernelspec": {
   "display_name": "Python 3.7 - Spark (local)",
   "language": "python",
   "name": "spark-3-python"
  },
  "language_info": {
   "codemirror_mode": {
    "name": "ipython",
    "version": 3
   },
   "file_extension": ".py",
   "mimetype": "text/x-python",
   "name": "python",
   "nbconvert_exporter": "python",
   "pygments_lexer": "ipython3",
   "version": "3.7.7"
  }
 },
 "nbformat": 4,
 "nbformat_minor": 1
}
